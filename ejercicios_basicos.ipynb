{
  "nbformat": 4,
  "nbformat_minor": 0,
  "metadata": {
    "colab": {
      "provenance": [],
      "toc_visible": true,
      "authorship_tag": "ABX9TyPAu5uV5H0QIUwMRoh2tk6T",
      "include_colab_link": true
    },
    "kernelspec": {
      "name": "python3",
      "display_name": "Python 3"
    },
    "language_info": {
      "name": "python"
    }
  },
  "cells": [
    {
      "cell_type": "markdown",
      "metadata": {
        "id": "view-in-github",
        "colab_type": "text"
      },
      "source": [
        "<a href=\"https://colab.research.google.com/github/jennyromero/ejercicios_basicos_colab/blob/main/ejercicios_basicos.ipynb\" target=\"_parent\"><img src=\"https://colab.research.google.com/assets/colab-badge.svg\" alt=\"Open In Colab\"/></a>"
      ]
    },
    {
      "cell_type": "markdown",
      "source": [
        "# Ejercicios basicos python\n",
        "\n",
        "-1. Suma de dos numeros \n",
        "-2. Potencia de un numero \n"
      ],
      "metadata": {
        "id": "pKCWPrwigbRa"
      }
    },
    {
      "cell_type": "code",
      "execution_count": null,
      "metadata": {
        "id": "jyUNM9mjgUa_"
      },
      "outputs": [],
      "source": [
        "# suma de dos números enteros \n",
        "\n",
        "print(\"---------------------\")\n",
        "print(\"--SUMA DOS ENTEROS----\")\n",
        "print(\"----------------------\")\n",
        "\n",
        "# input\n",
        "x = int(input(\"digite el valor de x:\"))\n",
        "y = int(input(\"Digite el valor  de y:\"))\n",
        "\n",
        "#procesing\n",
        "z = x + y\n",
        "\n",
        "# output\n",
        "print(\"la suma de \",x,\"  + \",y,\" es \",z)"
      ]
    },
    {
      "cell_type": "code",
      "source": [
        "# Potencia de un numero \n",
        "\n",
        "print(\"----------------------\")\n",
        "print(\"-----potencia---------\")\n",
        "print(\"----------------------\")\n",
        "\n",
        "# input\n",
        "x = int(input(\"Digite el valor de x:\"))\n",
        "y = int(input(\"Digite el valor de y :\"))\n",
        "\n"
      ],
      "metadata": {
        "id": "2qG7ZPZVlbT8"
      },
      "execution_count": null,
      "outputs": []
    }
  ]
}